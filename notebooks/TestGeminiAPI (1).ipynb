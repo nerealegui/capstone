{
 "cells": [
  {
   "cell_type": "markdown",
   "metadata": {
    "id": "B3MRD0gW56BA"
   },
   "source": [
    "# Setup\n",
    "\n",
    "Please ensure you have created a .env file with your Gemini API key.\n",
    "The .env file should contain: GOOGLE_API_KEY=your_api_key_here\n",
    "\n",
    "After doing so, please run the setup cell below."
   ]
  },
  {
   "cell_type": "code",
   "execution_count": null,
   "metadata": {
    "colab": {
     "base_uri": "https://localhost:8080/"
    },
    "executionInfo": {
     "elapsed": 9044,
     "status": "ok",
     "timestamp": 1746290376191,
     "user": {
      "displayName": "Marta Lacasta",
      "userId": "07070149385161444621"
     },
     "user_tz": -120
    },
    "id": "J1DzuqRv56BG",
    "outputId": "2c9931f7-630e-4852-ad85-87baa616e3a2"
   },
   "outputs": [
    {
     "name": "stdout",
     "output_type": "stream",
     "text": [
      "Drive already mounted at /content/drive; to attempt to forcibly remount, call drive.mount(\"/content/drive\", force_remount=True).\n"
     ]
    }
   ],
   "source": [
    "!pip install -U -q \"google\"\n",
    "!pip install -U -q \"google.genai\"\n",
    "!pip install -U -q \"python-dotenv\"\n",
    "\n",
    "import os\n",
    "from dotenv import load_dotenv\n",
    "from pathlib import Path\n",
    "from google.colab import drive\n",
    "\n",
    "# Load API key from .env file\n",
    "env_path = Path('../.env')\n",
    "load_dotenv(dotenv_path=env_path)\n",
    "\n",
    "# Get API key from environment variable\n",
    "API_KEY = os.getenv(\"GOOGLE_API_KEY\")\n",
    "\n",
    "# If not found in .env file, you can still set it manually\n",
    "if not API_KEY:\n",
    "    print(\"Warning: API_KEY not found in .env file. Please create a .env file with your API key.\")\n",
    "    # You can uncomment the line below to set API_KEY manually if needed\n",
    "    # API_KEY = \"your_api_key_here\"\n",
    "\n",
    "print(f\"API key loaded: {API_KEY[:5]}...{API_KEY[-5:] if API_KEY else ''}\")\n",
    "\n",
    "try:\n",
    "    drive.mount(\"/content/drive\")\n",
    "    # Please ensure that uploaded files are available in the AI Studio folder or change the working folder.\n",
    "    #os.chdir(\"/content/drive/MyDrive/Google AI Studio\")\n",
    "except:\n",
    "    print(\"Running locally, not in Colab.\")"
   ]
  },
  {
   "cell_type": "markdown",
   "metadata": {
    "id": "FBpA7qkU56BJ"
   },
   "source": [
    "# Generated Code"
   ]
  },
  {
   "cell_type": "code",
   "execution_count": null,
   "metadata": {
    "colab": {
     "base_uri": "https://localhost:8080/"
    },
    "executionInfo": {
     "elapsed": 10668,
     "status": "ok",
     "timestamp": 1746290455843,
     "user": {
      "displayName": "Marta Lacasta",
      "userId": "07070149385161444621"
     },
     "user_tz": -120
    },
    "id": "2jwIQag256BK",
    "outputId": "fee9131f-101a-4e76-8ee6-62b1e0540915"
   },
   "outputs": [
    {
     "name": "stdout",
     "output_type": "stream",
     "text": [
      "Okay, cooking spaghetti is one of the most fundamental and satisfying cooking skills! Here's a simple step-by-step guide to cooking perfect spaghetti:\n",
      "\n",
      "**What you'll need:**\n",
      "\n",
      "*   A large pot (bigger is better to prevent sticking)\n",
      "*   Spaghetti pasta (check the package for weight/serving suggestions)\n",
      "*   Water (plenty!)\n",
      "*   Salt (kosher or sea salt is good, but table salt works too)\n",
      "*   A colander\n",
      "*   Optional: A little olive oil (to prevent sticking, though debated if necessary in enough water)\n",
      "\n",
      "**Instructions:**\n",
      "\n",
      "1.  **Fill the Pot with Water:** Use a very large pot. Fill it at least 3/4 full with water. You need a generous amount of water so the pasta has room to move and doesn't clump together.\n",
      "2.  **Add Salt:** This is crucial for flavoring the pasta from the inside out. Don't be shy! Add a generous pinch or two (about 1-2 tablespoons per gallon of water, but taste the water – it should taste noticeably salty, like the sea). You can add oil here if you like, but with enough water and stirring, it's often not needed.\n",
      "3.  **Bring the Water to a Rolling Boil:** Put the pot on high heat and bring the water to a vigorous, bubbling boil.\n",
      "4.  **Add the Spaghetti:** Gently place the spaghetti into the boiling water. If the strands are too long to fit, don't break them! Just let the ends that are in the water soften (this only takes about 30-60 seconds), and then gently push the rest of the strands down into the pot with a spoon or tongs until they are fully submerged.\n",
      "5.  **Stir Immediately:** As soon as the spaghetti is in the water, give it a good stir with a wooden spoon or tongs to prevent the strands from sticking together or to the bottom of the pot. Stir again occasionally while it cooks.\n",
      "6.  **Cook According to Package Directions (Mostly):** The pasta package will have a suggested cooking time (e.g., 8-12 minutes). Use this as a guideline. The goal is usually \"al dente,\" which means \"to the tooth\" – cooked through but still slightly firm with a little bite in the center, not mushy.\n",
      "7.  **Check for Doneness (Taste is Key!):** Start checking the pasta a minute or two *before* the time suggested on the package. Carefully scoop out a strand with a fork or tongs, let it cool for just a second, and taste it. It should be tender but have that slight chewiness. If it's too hard in the center, let it cook for another minute and taste again.\n",
      "8.  **Reserve Pasta Water (Optional but Recommended):** Before you drain the pasta, scoop out about a cup of the starchy cooking water using a mug or ladle. This water is great for loosening up your sauce later or helping it cling better to the pasta.\n",
      "9.  **Drain the Pasta:** Once the pasta is cooked to your liking, carefully pour the contents of the pot into a colander set in your sink.\n",
      "10. **Do NOT Rinse the Pasta (Usually):** For hot pasta dishes with sauce, you generally do *not* rinse the pasta. The starch left on the pasta helps the sauce cling to it. Rinsing is usually only done for cold pasta salads to stop the cooking process and prevent sticking.\n",
      "11. **Serve Immediately:** Transfer the drained pasta back to the warm pot, or directly into your sauce. Toss gently to coat. Serve right away with your favorite sauce, cheese, or just a little olive oil and pepper.\n",
      "\n",
      "That's it! You've cooked spaghetti! Enjoy!"
     ]
    }
   ],
   "source": [
    "# To run this code you need to install the following dependencies:\n",
    "# pip install google-genai python-dotenv\n",
    "\n",
    "import base64\n",
    "from google import genai\n",
    "from google.genai import types\n",
    "\n",
    "def customer_service_agent():\n",
    "    prompt = \"You are a helpful customer service assistant. Greet the customer and offer assistance.\"\n",
    "    generate_with_prompt(prompt)\n",
    "\n",
    "def technical_support_agent():\n",
    "    prompt = \"You are a technical support expert. Ask the user for details about their technical issue.\"\n",
    "    generate_with_prompt(prompt)\n",
    "\n",
    "def generate():\n",
    "    client = genai.Client(api_key=API_KEY)\n",
    "    model = \"gemini-2.5-flash-preview-04-17\"\n",
    "    contents = [\n",
    "        types.Content(\n",
    "            role=\"user\",\n",
    "            parts=[\n",
    "                types.Part.from_text(text=\"\"\"How can I cook spaguetti?\"\"\"),\n",
    "            ],\n",
    "        ),\n",
    "    ]\n",
    "    generate_content_config = types.GenerateContentConfig(\n",
    "        response_mime_type=\"text/plain\",\n",
    "    )\n",
    "\n",
    "    for chunk in client.models.generate_content_stream(\n",
    "        model=model,\n",
    "        contents=contents,\n",
    "        config=generate_content_config,\n",
    "    ):\n",
    "        print(chunk.text, end=\"\")\n",
    "\n",
    "if __name__ == \"__main__\":\n",
    "    generate()\n"
   ]
  },
  {
   "cell_type": "code",
   "execution_count": null,
   "metadata": {
    "id": "sXclxyRM8YJM"
   },
   "outputs": [],
   "source": []
  }
 ],
 "metadata": {
  "colab": {
   "provenance": []
  },
  "kernelspec": {
   "display_name": "Python 3",
   "name": "python3"
  },
  "language_info": {
   "name": "python"
  }
 },
 "nbformat": 4,
 "nbformat_minor": 0
}
